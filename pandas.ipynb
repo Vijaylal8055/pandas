{
 "cells": [
  {
   "cell_type": "code",
   "execution_count": 1,
   "id": "cfd4d13f-986b-457c-afaf-a85ab832a606",
   "metadata": {},
   "outputs": [],
   "source": [
    "#pip install pandas"
   ]
  },
  {
   "cell_type": "code",
   "execution_count": 2,
   "id": "99590ea7-9f7e-4603-adcf-995f4b20a034",
   "metadata": {},
   "outputs": [],
   "source": [
    "import pandas as pd"
   ]
  },
  {
   "cell_type": "code",
   "execution_count": 3,
   "id": "b2c42476-eaf9-4b62-96f9-9665c221195d",
   "metadata": {},
   "outputs": [
    {
     "data": {
      "text/plain": [
       "0    10\n",
       "1    20\n",
       "2    30\n",
       "3    40\n",
       "4    50\n",
       "dtype: int64"
      ]
     },
     "execution_count": 3,
     "metadata": {},
     "output_type": "execute_result"
    }
   ],
   "source": [
    "a=[10,20,30,40,50]\n",
    "pd.Series(a)"
   ]
  },
  {
   "cell_type": "code",
   "execution_count": 4,
   "id": "9045f1eb-28b0-4931-bfa3-94a55eb095ae",
   "metadata": {},
   "outputs": [
    {
     "data": {
      "text/plain": [
       "0    10.1\n",
       "1    20.2\n",
       "2    30.3\n",
       "3    40.4\n",
       "4    50.5\n",
       "dtype: float64"
      ]
     },
     "execution_count": 4,
     "metadata": {},
     "output_type": "execute_result"
    }
   ],
   "source": [
    "b=[10.1,20.2,30.3,40.4,50.5]\n",
    "pd.Series(b)"
   ]
  },
  {
   "cell_type": "code",
   "execution_count": 5,
   "id": "9d7626d7-a016-45bb-982b-aab8d5523112",
   "metadata": {},
   "outputs": [
    {
     "data": {
      "text/plain": [
       "0    10.0+ 3.0j\n",
       "1    20.0+ 2.0j\n",
       "2    30.0+ 3.0j\n",
       "3    40.0+ 4.0j\n",
       "4    50.0+ 5.0j\n",
       "dtype: complex128"
      ]
     },
     "execution_count": 5,
     "metadata": {},
     "output_type": "execute_result"
    }
   ],
   "source": [
    "c=[10+3j,20+2j,30+3j,40+4j,50+5j]\n",
    "pd.Series(c)"
   ]
  },
  {
   "cell_type": "code",
   "execution_count": 6,
   "id": "8b1e8ab7-13f1-4fae-b9b2-ca1bc1792a4b",
   "metadata": {},
   "outputs": [
    {
     "data": {
      "text/plain": [
       "0    python\n",
       "1      java\n",
       "dtype: object"
      ]
     },
     "execution_count": 6,
     "metadata": {},
     "output_type": "execute_result"
    }
   ],
   "source": [
    "h=[\"python\",\"java\"]\n",
    "pd.Series(h)"
   ]
  },
  {
   "cell_type": "code",
   "execution_count": 7,
   "id": "c91fdef1-3358-459e-8a3c-5aee1c3a2591",
   "metadata": {},
   "outputs": [
    {
     "data": {
      "text/plain": [
       "0     True\n",
       "1    False\n",
       "dtype: bool"
      ]
     },
     "execution_count": 7,
     "metadata": {},
     "output_type": "execute_result"
    }
   ],
   "source": [
    "e=[True,False]\n",
    "pd.Series(e)"
   ]
  },
  {
   "cell_type": "code",
   "execution_count": 8,
   "id": "638dfffb-506d-47d4-88a5-094c53d89618",
   "metadata": {},
   "outputs": [
    {
     "data": {
      "text/plain": [
       "0     True\n",
       "1    Vijay\n",
       "2        8\n",
       "dtype: object"
      ]
     },
     "execution_count": 8,
     "metadata": {},
     "output_type": "execute_result"
    }
   ],
   "source": [
    "f=[True,\"Vijay\",8]\n",
    "pd.Series(f)"
   ]
  },
  {
   "cell_type": "code",
   "execution_count": 9,
   "id": "be9b03d4-886d-4368-8ebe-18e29dd32657",
   "metadata": {},
   "outputs": [
    {
     "data": {
      "text/plain": [
       "i      10\n",
       "ii     20\n",
       "iii    30\n",
       "iv     40\n",
       "v      50\n",
       "dtype: int64"
      ]
     },
     "execution_count": 9,
     "metadata": {},
     "output_type": "execute_result"
    }
   ],
   "source": [
    "pd.Series(a,index=[\"i\",\"ii\",\"iii\",\"iv\",\"v\"])"
   ]
  },
  {
   "cell_type": "code",
   "execution_count": 10,
   "id": "fd43c2e4-a837-44c0-8924-f1f29309e997",
   "metadata": {},
   "outputs": [
    {
     "data": {
      "text/html": [
       "<div>\n",
       "<style scoped>\n",
       "    .dataframe tbody tr th:only-of-type {\n",
       "        vertical-align: middle;\n",
       "    }\n",
       "\n",
       "    .dataframe tbody tr th {\n",
       "        vertical-align: top;\n",
       "    }\n",
       "\n",
       "    .dataframe thead th {\n",
       "        text-align: right;\n",
       "    }\n",
       "</style>\n",
       "<table border=\"1\" class=\"dataframe\">\n",
       "  <thead>\n",
       "    <tr style=\"text-align: right;\">\n",
       "      <th></th>\n",
       "      <th>names</th>\n",
       "      <th>marks</th>\n",
       "    </tr>\n",
       "  </thead>\n",
       "  <tbody>\n",
       "    <tr>\n",
       "      <th>0</th>\n",
       "      <td>rajendra</td>\n",
       "      <td>60</td>\n",
       "    </tr>\n",
       "    <tr>\n",
       "      <th>1</th>\n",
       "      <td>rajesh</td>\n",
       "      <td>70</td>\n",
       "    </tr>\n",
       "    <tr>\n",
       "      <th>2</th>\n",
       "      <td>rajeev</td>\n",
       "      <td>80</td>\n",
       "    </tr>\n",
       "  </tbody>\n",
       "</table>\n",
       "</div>"
      ],
      "text/plain": [
       "      names  marks\n",
       "0  rajendra     60\n",
       "1    rajesh     70\n",
       "2    rajeev     80"
      ]
     },
     "execution_count": 10,
     "metadata": {},
     "output_type": "execute_result"
    }
   ],
   "source": [
    "data=pd.DataFrame({\"names\":[\"rajendra\",\"rajesh\",\"rajeev\"],\"marks\":[60,70,80]})\n",
    "data"
   ]
  },
  {
   "cell_type": "code",
   "execution_count": 11,
   "id": "55dc9c73-348e-47b2-8d9f-d40c720606f8",
   "metadata": {},
   "outputs": [
    {
     "data": {
      "text/html": [
       "<div>\n",
       "<style scoped>\n",
       "    .dataframe tbody tr th:only-of-type {\n",
       "        vertical-align: middle;\n",
       "    }\n",
       "\n",
       "    .dataframe tbody tr th {\n",
       "        vertical-align: top;\n",
       "    }\n",
       "\n",
       "    .dataframe thead th {\n",
       "        text-align: right;\n",
       "    }\n",
       "</style>\n",
       "<table border=\"1\" class=\"dataframe\">\n",
       "  <thead>\n",
       "    <tr style=\"text-align: right;\">\n",
       "      <th></th>\n",
       "      <th>names</th>\n",
       "      <th>mailid</th>\n",
       "      <th>salary</th>\n",
       "    </tr>\n",
       "  </thead>\n",
       "  <tbody>\n",
       "    <tr>\n",
       "      <th>0</th>\n",
       "      <td>vijay</td>\n",
       "      <td>vijay@gmail.com</td>\n",
       "      <td>100000</td>\n",
       "    </tr>\n",
       "    <tr>\n",
       "      <th>1</th>\n",
       "      <td>jeevan</td>\n",
       "      <td>jeevan@gmail.com</td>\n",
       "      <td>50000</td>\n",
       "    </tr>\n",
       "    <tr>\n",
       "      <th>2</th>\n",
       "      <td>arun</td>\n",
       "      <td>arun@gmail.com</td>\n",
       "      <td>70000</td>\n",
       "    </tr>\n",
       "  </tbody>\n",
       "</table>\n",
       "</div>"
      ],
      "text/plain": [
       "    names            mailid  salary\n",
       "0   vijay   vijay@gmail.com  100000\n",
       "1  jeevan  jeevan@gmail.com   50000\n",
       "2    arun    arun@gmail.com   70000"
      ]
     },
     "execution_count": 11,
     "metadata": {},
     "output_type": "execute_result"
    }
   ],
   "source": [
    "data1=pd.DataFrame({\"names\":[\"vijay\",\"jeevan\",\"arun\"],\"mailid\":[\"vijay@gmail.com\",\"jeevan@gmail.com\",\"arun@gmail.com\"],\"salary\":[100000,50000,70000]})\n",
    "data1"
   ]
  },
  {
   "cell_type": "code",
   "execution_count": 12,
   "id": "c94927ca-34cf-466d-860f-ff6d1f9c0849",
   "metadata": {},
   "outputs": [
    {
     "data": {
      "text/html": [
       "<div>\n",
       "<style scoped>\n",
       "    .dataframe tbody tr th:only-of-type {\n",
       "        vertical-align: middle;\n",
       "    }\n",
       "\n",
       "    .dataframe tbody tr th {\n",
       "        vertical-align: top;\n",
       "    }\n",
       "\n",
       "    .dataframe thead th {\n",
       "        text-align: right;\n",
       "    }\n",
       "</style>\n",
       "<table border=\"1\" class=\"dataframe\">\n",
       "  <thead>\n",
       "    <tr style=\"text-align: right;\">\n",
       "      <th></th>\n",
       "      <th>Food Name</th>\n",
       "      <th>Restaurant</th>\n",
       "    </tr>\n",
       "  </thead>\n",
       "  <tbody>\n",
       "    <tr>\n",
       "      <th>0</th>\n",
       "      <td>Mutton Biryani</td>\n",
       "      <td>Little Village</td>\n",
       "    </tr>\n",
       "    <tr>\n",
       "      <th>1</th>\n",
       "      <td>Nalligosh Biryani</td>\n",
       "      <td>F2</td>\n",
       "    </tr>\n",
       "    <tr>\n",
       "      <th>2</th>\n",
       "      <td>Chicken Biryani</td>\n",
       "      <td>Ismail</td>\n",
       "    </tr>\n",
       "    <tr>\n",
       "      <th>3</th>\n",
       "      <td>Prawns Biryani</td>\n",
       "      <td>Rusted spoon</td>\n",
       "    </tr>\n",
       "    <tr>\n",
       "      <th>4</th>\n",
       "      <td>Mushroom Biryani</td>\n",
       "      <td>RR Durbar</td>\n",
       "    </tr>\n",
       "    <tr>\n",
       "      <th>5</th>\n",
       "      <td>French Fries</td>\n",
       "      <td>Ice Magic</td>\n",
       "    </tr>\n",
       "    <tr>\n",
       "      <th>6</th>\n",
       "      <td>Pizzas</td>\n",
       "      <td>Dominos</td>\n",
       "    </tr>\n",
       "    <tr>\n",
       "      <th>7</th>\n",
       "      <td>Chicken Wings</td>\n",
       "      <td>KFC</td>\n",
       "    </tr>\n",
       "    <tr>\n",
       "      <th>8</th>\n",
       "      <td>Burger</td>\n",
       "      <td>Burger King</td>\n",
       "    </tr>\n",
       "    <tr>\n",
       "      <th>9</th>\n",
       "      <td>Noodles</td>\n",
       "      <td>Chinese special</td>\n",
       "    </tr>\n",
       "  </tbody>\n",
       "</table>\n",
       "</div>"
      ],
      "text/plain": [
       "           Food Name       Restaurant\n",
       "0     Mutton Biryani   Little Village\n",
       "1  Nalligosh Biryani               F2\n",
       "2    Chicken Biryani           Ismail\n",
       "3     Prawns Biryani     Rusted spoon\n",
       "4   Mushroom Biryani        RR Durbar\n",
       "5       French Fries        Ice Magic\n",
       "6             Pizzas          Dominos\n",
       "7      Chicken Wings              KFC\n",
       "8             Burger      Burger King\n",
       "9            Noodles  Chinese special"
      ]
     },
     "execution_count": 12,
     "metadata": {},
     "output_type": "execute_result"
    }
   ],
   "source": [
    "d=pd.read_csv(\"Food Name.csv\")\n",
    "d"
   ]
  },
  {
   "cell_type": "code",
   "execution_count": 13,
   "id": "614b8fa8-7a89-4bd6-8da3-233e953e9659",
   "metadata": {},
   "outputs": [
    {
     "data": {
      "text/plain": [
       "Index(['Food Name', 'Restaurant'], dtype='object')"
      ]
     },
     "execution_count": 13,
     "metadata": {},
     "output_type": "execute_result"
    }
   ],
   "source": [
    "d.columns"
   ]
  },
  {
   "cell_type": "code",
   "execution_count": 14,
   "id": "8e87374a-9ea8-4ab2-af80-cab3d10eba21",
   "metadata": {},
   "outputs": [
    {
     "data": {
      "text/plain": [
       "(10, 2)"
      ]
     },
     "execution_count": 14,
     "metadata": {},
     "output_type": "execute_result"
    }
   ],
   "source": [
    "d.shape"
   ]
  },
  {
   "cell_type": "code",
   "execution_count": 15,
   "id": "c8884053-3394-49d9-8396-efa07e427932",
   "metadata": {},
   "outputs": [
    {
     "data": {
      "text/html": [
       "<div>\n",
       "<style scoped>\n",
       "    .dataframe tbody tr th:only-of-type {\n",
       "        vertical-align: middle;\n",
       "    }\n",
       "\n",
       "    .dataframe tbody tr th {\n",
       "        vertical-align: top;\n",
       "    }\n",
       "\n",
       "    .dataframe thead th {\n",
       "        text-align: right;\n",
       "    }\n",
       "</style>\n",
       "<table border=\"1\" class=\"dataframe\">\n",
       "  <thead>\n",
       "    <tr style=\"text-align: right;\">\n",
       "      <th></th>\n",
       "      <th>Title</th>\n",
       "      <th>Type</th>\n",
       "      <th>Genre</th>\n",
       "      <th>Release Year</th>\n",
       "      <th>Rating</th>\n",
       "      <th>Duration</th>\n",
       "      <th>Country</th>\n",
       "    </tr>\n",
       "  </thead>\n",
       "  <tbody>\n",
       "    <tr>\n",
       "      <th>0</th>\n",
       "      <td>Title 1</td>\n",
       "      <td>TV Show</td>\n",
       "      <td>Comedy</td>\n",
       "      <td>1955</td>\n",
       "      <td>PG</td>\n",
       "      <td>3 Seasons</td>\n",
       "      <td>Japan</td>\n",
       "    </tr>\n",
       "    <tr>\n",
       "      <th>1</th>\n",
       "      <td>Title 2</td>\n",
       "      <td>TV Show</td>\n",
       "      <td>Horror</td>\n",
       "      <td>2020</td>\n",
       "      <td>G</td>\n",
       "      <td>3 Seasons</td>\n",
       "      <td>India</td>\n",
       "    </tr>\n",
       "    <tr>\n",
       "      <th>2</th>\n",
       "      <td>Title 3</td>\n",
       "      <td>TV Show</td>\n",
       "      <td>Action</td>\n",
       "      <td>1966</td>\n",
       "      <td>TV-PG</td>\n",
       "      <td>140 min</td>\n",
       "      <td>United States</td>\n",
       "    </tr>\n",
       "    <tr>\n",
       "      <th>3</th>\n",
       "      <td>Title 4</td>\n",
       "      <td>Movie</td>\n",
       "      <td>Thriller</td>\n",
       "      <td>2011</td>\n",
       "      <td>PG-13</td>\n",
       "      <td>3 Seasons</td>\n",
       "      <td>Canada</td>\n",
       "    </tr>\n",
       "    <tr>\n",
       "      <th>4</th>\n",
       "      <td>Title 5</td>\n",
       "      <td>TV Show</td>\n",
       "      <td>Romance</td>\n",
       "      <td>1959</td>\n",
       "      <td>TV-14</td>\n",
       "      <td>172 min</td>\n",
       "      <td>India</td>\n",
       "    </tr>\n",
       "    <tr>\n",
       "      <th>...</th>\n",
       "      <td>...</td>\n",
       "      <td>...</td>\n",
       "      <td>...</td>\n",
       "      <td>...</td>\n",
       "      <td>...</td>\n",
       "      <td>...</td>\n",
       "      <td>...</td>\n",
       "    </tr>\n",
       "    <tr>\n",
       "      <th>2995</th>\n",
       "      <td>Title 2996</td>\n",
       "      <td>Movie</td>\n",
       "      <td>Thriller</td>\n",
       "      <td>2007</td>\n",
       "      <td>TV-PG</td>\n",
       "      <td>75 min</td>\n",
       "      <td>Germany</td>\n",
       "    </tr>\n",
       "    <tr>\n",
       "      <th>2996</th>\n",
       "      <td>Title 2997</td>\n",
       "      <td>Movie</td>\n",
       "      <td>Drama</td>\n",
       "      <td>2019</td>\n",
       "      <td>G</td>\n",
       "      <td>2 Seasons</td>\n",
       "      <td>Germany</td>\n",
       "    </tr>\n",
       "    <tr>\n",
       "      <th>2997</th>\n",
       "      <td>Title 2998</td>\n",
       "      <td>TV Show</td>\n",
       "      <td>Action</td>\n",
       "      <td>1993</td>\n",
       "      <td>R</td>\n",
       "      <td>3 Seasons</td>\n",
       "      <td>Canada</td>\n",
       "    </tr>\n",
       "    <tr>\n",
       "      <th>2998</th>\n",
       "      <td>Title 2999</td>\n",
       "      <td>Movie</td>\n",
       "      <td>Drama</td>\n",
       "      <td>1966</td>\n",
       "      <td>PG-13</td>\n",
       "      <td>1 Seasons</td>\n",
       "      <td>Germany</td>\n",
       "    </tr>\n",
       "    <tr>\n",
       "      <th>2999</th>\n",
       "      <td>Title 3000</td>\n",
       "      <td>TV Show</td>\n",
       "      <td>Thriller</td>\n",
       "      <td>2015</td>\n",
       "      <td>PG</td>\n",
       "      <td>2 Seasons</td>\n",
       "      <td>United States</td>\n",
       "    </tr>\n",
       "  </tbody>\n",
       "</table>\n",
       "<p>3000 rows × 7 columns</p>\n",
       "</div>"
      ],
      "text/plain": [
       "           Title     Type     Genre  Release Year Rating   Duration  \\\n",
       "0        Title 1  TV Show    Comedy          1955     PG  3 Seasons   \n",
       "1        Title 2  TV Show    Horror          2020      G  3 Seasons   \n",
       "2        Title 3  TV Show    Action          1966  TV-PG    140 min   \n",
       "3        Title 4    Movie  Thriller          2011  PG-13  3 Seasons   \n",
       "4        Title 5  TV Show   Romance          1959  TV-14    172 min   \n",
       "...          ...      ...       ...           ...    ...        ...   \n",
       "2995  Title 2996    Movie  Thriller          2007  TV-PG     75 min   \n",
       "2996  Title 2997    Movie     Drama          2019      G  2 Seasons   \n",
       "2997  Title 2998  TV Show    Action          1993      R  3 Seasons   \n",
       "2998  Title 2999    Movie     Drama          1966  PG-13  1 Seasons   \n",
       "2999  Title 3000  TV Show  Thriller          2015     PG  2 Seasons   \n",
       "\n",
       "            Country  \n",
       "0             Japan  \n",
       "1             India  \n",
       "2     United States  \n",
       "3            Canada  \n",
       "4             India  \n",
       "...             ...  \n",
       "2995        Germany  \n",
       "2996        Germany  \n",
       "2997         Canada  \n",
       "2998        Germany  \n",
       "2999  United States  \n",
       "\n",
       "[3000 rows x 7 columns]"
      ]
     },
     "execution_count": 15,
     "metadata": {},
     "output_type": "execute_result"
    }
   ],
   "source": [
    "d2=pd.read_csv(\"Netflix_Movies_and_TV_Shows.csv\")\n",
    "d2"
   ]
  },
  {
   "cell_type": "code",
   "execution_count": 16,
   "id": "6f6976b2-53f2-4467-a53d-44e909660b90",
   "metadata": {},
   "outputs": [
    {
     "data": {
      "text/plain": [
       "(3000, 7)"
      ]
     },
     "execution_count": 16,
     "metadata": {},
     "output_type": "execute_result"
    }
   ],
   "source": [
    "d2.shape"
   ]
  },
  {
   "cell_type": "code",
   "execution_count": 17,
   "id": "a4422f95-5c3c-45fd-9e62-afbab098a6a7",
   "metadata": {},
   "outputs": [
    {
     "data": {
      "text/plain": [
       "Index(['Title', 'Type', 'Genre', 'Release Year', 'Rating', 'Duration',\n",
       "       'Country'],\n",
       "      dtype='object')"
      ]
     },
     "execution_count": 17,
     "metadata": {},
     "output_type": "execute_result"
    }
   ],
   "source": [
    "d2.columns"
   ]
  },
  {
   "cell_type": "code",
   "execution_count": null,
   "id": "1fcb8ca8-27ce-4de8-beac-69a959af0ee1",
   "metadata": {},
   "outputs": [],
   "source": []
  }
 ],
 "metadata": {
  "kernelspec": {
   "display_name": "Python 3 (ipykernel)",
   "language": "python",
   "name": "python3"
  },
  "language_info": {
   "codemirror_mode": {
    "name": "ipython",
    "version": 3
   },
   "file_extension": ".py",
   "mimetype": "text/x-python",
   "name": "python",
   "nbconvert_exporter": "python",
   "pygments_lexer": "ipython3",
   "version": "3.11.9"
  }
 },
 "nbformat": 4,
 "nbformat_minor": 5
}
